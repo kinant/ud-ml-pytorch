{
 "cells": [
  {
   "cell_type": "code",
   "id": "initial_id",
   "metadata": {
    "collapsed": true,
    "ExecuteTime": {
     "end_time": "2025-10-30T15:39:55.291383Z",
     "start_time": "2025-10-30T15:39:52.897272Z"
    }
   },
   "source": [
    "%matplotlib inline\n",
    "import numpy as np\n",
    "import pandas as pd\n",
    "import matplotlib.pyplot as plt"
   ],
   "outputs": [],
   "execution_count": 5
  },
  {
   "metadata": {
    "ExecuteTime": {
     "end_time": "2025-10-30T15:39:55.722562Z",
     "start_time": "2025-10-30T15:39:55.710638Z"
    }
   },
   "cell_type": "code",
   "source": "data = pd.read_csv('ml-bugs.csv')",
   "id": "c12a23258637b88c",
   "outputs": [],
   "execution_count": 6
  },
  {
   "metadata": {
    "ExecuteTime": {
     "end_time": "2025-10-30T15:43:59.818129Z",
     "start_time": "2025-10-30T15:43:59.806129Z"
    }
   },
   "cell_type": "code",
   "source": "data",
   "id": "80c8cce4cb5ed28d",
   "outputs": [
    {
     "data": {
      "text/plain": [
       "   Species  Color  Length (mm)\n",
       "0    Mobug  Brown         11.6\n",
       "1    Mobug   Blue         16.3\n",
       "2    Lobug   Blue         15.1\n",
       "3    Lobug  Green         23.7\n",
       "4    Lobug   Blue         18.4\n",
       "5    Lobug  Brown         17.1\n",
       "6    Mobug  Brown         15.7\n",
       "7    Lobug  Green         18.6\n",
       "8    Lobug   Blue         22.9\n",
       "9    Lobug   Blue         21.0\n",
       "10   Lobug   Blue         20.5\n",
       "11   Mobug  Green         21.2\n",
       "12   Mobug  Brown         13.8\n",
       "13   Lobug   Blue         14.5\n",
       "14   Lobug  Green         24.8\n",
       "15   Mobug  Brown         18.2\n",
       "16   Lobug  Green         17.9\n",
       "17   Lobug  Green         22.7\n",
       "18   Mobug  Green         19.9\n",
       "19   Mobug   Blue         14.6\n",
       "20   Mobug   Blue         19.2\n",
       "21   Lobug  Brown         14.1\n",
       "22   Lobug  Green         18.8\n",
       "23   Mobug   Blue         13.1"
      ],
      "text/html": [
       "<div>\n",
       "<style scoped>\n",
       "    .dataframe tbody tr th:only-of-type {\n",
       "        vertical-align: middle;\n",
       "    }\n",
       "\n",
       "    .dataframe tbody tr th {\n",
       "        vertical-align: top;\n",
       "    }\n",
       "\n",
       "    .dataframe thead th {\n",
       "        text-align: right;\n",
       "    }\n",
       "</style>\n",
       "<table border=\"1\" class=\"dataframe\">\n",
       "  <thead>\n",
       "    <tr style=\"text-align: right;\">\n",
       "      <th></th>\n",
       "      <th>Species</th>\n",
       "      <th>Color</th>\n",
       "      <th>Length (mm)</th>\n",
       "    </tr>\n",
       "  </thead>\n",
       "  <tbody>\n",
       "    <tr>\n",
       "      <th>0</th>\n",
       "      <td>Mobug</td>\n",
       "      <td>Brown</td>\n",
       "      <td>11.6</td>\n",
       "    </tr>\n",
       "    <tr>\n",
       "      <th>1</th>\n",
       "      <td>Mobug</td>\n",
       "      <td>Blue</td>\n",
       "      <td>16.3</td>\n",
       "    </tr>\n",
       "    <tr>\n",
       "      <th>2</th>\n",
       "      <td>Lobug</td>\n",
       "      <td>Blue</td>\n",
       "      <td>15.1</td>\n",
       "    </tr>\n",
       "    <tr>\n",
       "      <th>3</th>\n",
       "      <td>Lobug</td>\n",
       "      <td>Green</td>\n",
       "      <td>23.7</td>\n",
       "    </tr>\n",
       "    <tr>\n",
       "      <th>4</th>\n",
       "      <td>Lobug</td>\n",
       "      <td>Blue</td>\n",
       "      <td>18.4</td>\n",
       "    </tr>\n",
       "    <tr>\n",
       "      <th>5</th>\n",
       "      <td>Lobug</td>\n",
       "      <td>Brown</td>\n",
       "      <td>17.1</td>\n",
       "    </tr>\n",
       "    <tr>\n",
       "      <th>6</th>\n",
       "      <td>Mobug</td>\n",
       "      <td>Brown</td>\n",
       "      <td>15.7</td>\n",
       "    </tr>\n",
       "    <tr>\n",
       "      <th>7</th>\n",
       "      <td>Lobug</td>\n",
       "      <td>Green</td>\n",
       "      <td>18.6</td>\n",
       "    </tr>\n",
       "    <tr>\n",
       "      <th>8</th>\n",
       "      <td>Lobug</td>\n",
       "      <td>Blue</td>\n",
       "      <td>22.9</td>\n",
       "    </tr>\n",
       "    <tr>\n",
       "      <th>9</th>\n",
       "      <td>Lobug</td>\n",
       "      <td>Blue</td>\n",
       "      <td>21.0</td>\n",
       "    </tr>\n",
       "    <tr>\n",
       "      <th>10</th>\n",
       "      <td>Lobug</td>\n",
       "      <td>Blue</td>\n",
       "      <td>20.5</td>\n",
       "    </tr>\n",
       "    <tr>\n",
       "      <th>11</th>\n",
       "      <td>Mobug</td>\n",
       "      <td>Green</td>\n",
       "      <td>21.2</td>\n",
       "    </tr>\n",
       "    <tr>\n",
       "      <th>12</th>\n",
       "      <td>Mobug</td>\n",
       "      <td>Brown</td>\n",
       "      <td>13.8</td>\n",
       "    </tr>\n",
       "    <tr>\n",
       "      <th>13</th>\n",
       "      <td>Lobug</td>\n",
       "      <td>Blue</td>\n",
       "      <td>14.5</td>\n",
       "    </tr>\n",
       "    <tr>\n",
       "      <th>14</th>\n",
       "      <td>Lobug</td>\n",
       "      <td>Green</td>\n",
       "      <td>24.8</td>\n",
       "    </tr>\n",
       "    <tr>\n",
       "      <th>15</th>\n",
       "      <td>Mobug</td>\n",
       "      <td>Brown</td>\n",
       "      <td>18.2</td>\n",
       "    </tr>\n",
       "    <tr>\n",
       "      <th>16</th>\n",
       "      <td>Lobug</td>\n",
       "      <td>Green</td>\n",
       "      <td>17.9</td>\n",
       "    </tr>\n",
       "    <tr>\n",
       "      <th>17</th>\n",
       "      <td>Lobug</td>\n",
       "      <td>Green</td>\n",
       "      <td>22.7</td>\n",
       "    </tr>\n",
       "    <tr>\n",
       "      <th>18</th>\n",
       "      <td>Mobug</td>\n",
       "      <td>Green</td>\n",
       "      <td>19.9</td>\n",
       "    </tr>\n",
       "    <tr>\n",
       "      <th>19</th>\n",
       "      <td>Mobug</td>\n",
       "      <td>Blue</td>\n",
       "      <td>14.6</td>\n",
       "    </tr>\n",
       "    <tr>\n",
       "      <th>20</th>\n",
       "      <td>Mobug</td>\n",
       "      <td>Blue</td>\n",
       "      <td>19.2</td>\n",
       "    </tr>\n",
       "    <tr>\n",
       "      <th>21</th>\n",
       "      <td>Lobug</td>\n",
       "      <td>Brown</td>\n",
       "      <td>14.1</td>\n",
       "    </tr>\n",
       "    <tr>\n",
       "      <th>22</th>\n",
       "      <td>Lobug</td>\n",
       "      <td>Green</td>\n",
       "      <td>18.8</td>\n",
       "    </tr>\n",
       "    <tr>\n",
       "      <th>23</th>\n",
       "      <td>Mobug</td>\n",
       "      <td>Blue</td>\n",
       "      <td>13.1</td>\n",
       "    </tr>\n",
       "  </tbody>\n",
       "</table>\n",
       "</div>"
      ]
     },
     "execution_count": 15,
     "metadata": {},
     "output_type": "execute_result"
    }
   ],
   "execution_count": 15
  },
  {
   "metadata": {
    "ExecuteTime": {
     "end_time": "2025-10-30T15:41:06.259009Z",
     "start_time": "2025-10-30T15:41:06.254563Z"
    }
   },
   "cell_type": "code",
   "source": [
    "X = data['Color']\n",
    "Y = data['Length (mm)']"
   ],
   "id": "5231d81abecc3ae2",
   "outputs": [],
   "execution_count": 9
  },
  {
   "metadata": {
    "ExecuteTime": {
     "end_time": "2025-10-30T15:41:11.839026Z",
     "start_time": "2025-10-30T15:41:11.832026Z"
    }
   },
   "cell_type": "code",
   "source": "X",
   "id": "3060cb3f65d61824",
   "outputs": [
    {
     "data": {
      "text/plain": [
       "0     Brown\n",
       "1      Blue\n",
       "2      Blue\n",
       "3     Green\n",
       "4      Blue\n",
       "5     Brown\n",
       "6     Brown\n",
       "7     Green\n",
       "8      Blue\n",
       "9      Blue\n",
       "10     Blue\n",
       "11    Green\n",
       "12    Brown\n",
       "13     Blue\n",
       "14    Green\n",
       "15    Brown\n",
       "16    Green\n",
       "17    Green\n",
       "18    Green\n",
       "19     Blue\n",
       "20     Blue\n",
       "21    Brown\n",
       "22    Green\n",
       "23     Blue\n",
       "Name: Color, dtype: object"
      ]
     },
     "execution_count": 10,
     "metadata": {},
     "output_type": "execute_result"
    }
   ],
   "execution_count": 10
  },
  {
   "metadata": {
    "ExecuteTime": {
     "end_time": "2025-10-30T15:41:16.707543Z",
     "start_time": "2025-10-30T15:41:16.701084Z"
    }
   },
   "cell_type": "code",
   "source": "Y",
   "id": "7c634cfe724383ea",
   "outputs": [
    {
     "data": {
      "text/plain": [
       "0     11.6\n",
       "1     16.3\n",
       "2     15.1\n",
       "3     23.7\n",
       "4     18.4\n",
       "5     17.1\n",
       "6     15.7\n",
       "7     18.6\n",
       "8     22.9\n",
       "9     21.0\n",
       "10    20.5\n",
       "11    21.2\n",
       "12    13.8\n",
       "13    14.5\n",
       "14    24.8\n",
       "15    18.2\n",
       "16    17.9\n",
       "17    22.7\n",
       "18    19.9\n",
       "19    14.6\n",
       "20    19.2\n",
       "21    14.1\n",
       "22    18.8\n",
       "23    13.1\n",
       "Name: Length (mm), dtype: float64"
      ]
     },
     "execution_count": 11,
     "metadata": {},
     "output_type": "execute_result"
    }
   ],
   "execution_count": 11
  },
  {
   "metadata": {
    "ExecuteTime": {
     "end_time": "2025-10-30T15:50:29.971949Z",
     "start_time": "2025-10-30T15:50:29.682991Z"
    }
   },
   "cell_type": "code",
   "source": [
    "plt.figure()\n",
    "X_min = X.min()\n",
    "X_max = X.max()\n",
    "Y_min = Y.min()\n",
    "Y_max = Y.max()\n",
    "\n",
    "for datum in data.values:\n",
    "    #    print(f\"{x}, {y}, {z}\")\n",
    "    # print(datum)\n",
    "    print(f\"X: {datum[1]}, Y: {datum[2]}, S: {datum[0]}\")\n",
    "    color = 'r'\n",
    "\n",
    "    if datum[0] == 'Lobug':\n",
    "        color = 'y'\n",
    "\n",
    "    plt.scatter(datum[1], datum[2], color=color)\n",
    "\n",
    "plt.show()\n"
   ],
   "id": "b6fc497eb88eca0a",
   "outputs": [
    {
     "name": "stdout",
     "output_type": "stream",
     "text": [
      "X: Brown, Y: 11.6, S: Mobug\n",
      "X: Blue, Y: 16.3, S: Mobug\n",
      "X: Blue, Y: 15.1, S: Lobug\n",
      "X: Green, Y: 23.7, S: Lobug\n",
      "X: Blue, Y: 18.4, S: Lobug\n",
      "X: Brown, Y: 17.1, S: Lobug\n",
      "X: Brown, Y: 15.7, S: Mobug\n",
      "X: Green, Y: 18.6, S: Lobug\n",
      "X: Blue, Y: 22.9, S: Lobug\n",
      "X: Blue, Y: 21.0, S: Lobug\n",
      "X: Blue, Y: 20.5, S: Lobug\n",
      "X: Green, Y: 21.2, S: Mobug\n",
      "X: Brown, Y: 13.8, S: Mobug\n",
      "X: Blue, Y: 14.5, S: Lobug\n",
      "X: Green, Y: 24.8, S: Lobug\n",
      "X: Brown, Y: 18.2, S: Mobug\n",
      "X: Green, Y: 17.9, S: Lobug\n",
      "X: Green, Y: 22.7, S: Lobug\n",
      "X: Green, Y: 19.9, S: Mobug\n",
      "X: Blue, Y: 14.6, S: Mobug\n",
      "X: Blue, Y: 19.2, S: Mobug\n",
      "X: Brown, Y: 14.1, S: Lobug\n",
      "X: Green, Y: 18.8, S: Lobug\n",
      "X: Blue, Y: 13.1, S: Mobug\n"
     ]
    },
    {
     "data": {
      "text/plain": [
       "<Figure size 640x480 with 1 Axes>"
      ],
      "image/png": "[encoded data removed]"
     },
     "metadata": {},
     "output_type": "display_data",
     "jetTransient": {
      "display_id": null
     }
    }
   ],
   "execution_count": 28
  },
  {
   "metadata": {},
   "cell_type": "code",
   "outputs": [],
   "execution_count": null,
   "source": "",
   "id": "698613aed3870eac"
  }
 ],
 "metadata": {
  "kernelspec": {
   "display_name": "Python 3",
   "language": "python",
   "name": "python3"
  },
  "language_info": {
   "codemirror_mode": {
    "name": "ipython",
    "version": 2
   },
   "file_extension": ".py",
   "mimetype": "text/x-python",
   "name": "python",
   "nbconvert_exporter": "python",
   "pygments_lexer": "ipython2",
   "version": "2.7.6"
  }
 },
 "nbformat": 4,
 "nbformat_minor": 5
}
