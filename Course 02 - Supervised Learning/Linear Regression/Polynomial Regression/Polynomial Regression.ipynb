{
 "cells": [
  {
   "cell_type": "code",
   "metadata": {
    "ExecuteTime": {
     "end_time": "2025-10-29T16:58:29.164703Z",
     "start_time": "2025-10-29T16:58:26.831758Z"
    }
   },
   "source": [
    "# TODO: Add import statements\n",
    "import matplotlib.pyplot as plt\n",
    "import numpy as np\n",
    "import pandas as pd\n",
    "\n",
    "from sklearn.linear_model import LinearRegression\n",
    "from sklearn.preprocessing import PolynomialFeatures\n",
    "from win32comext.shell.shellcon import PRINTACTION_OPEN"
   ],
   "outputs": [],
   "execution_count": 1
  },
  {
   "cell_type": "code",
   "metadata": {
    "ExecuteTime": {
     "end_time": "2025-10-29T16:59:39.500460Z",
     "start_time": "2025-10-29T16:59:39.492467Z"
    }
   },
   "source": [
    "# Assign the data to predictor and outcome variables\n",
    "# TODO: Load the data\n",
    "train_data = pd.read_csv('data.csv')\n",
    "X = train_data[['Var_X']]\n",
    "y = train_data[['Var_Y']]"
   ],
   "outputs": [],
   "execution_count": 6
  },
  {
   "metadata": {
    "ExecuteTime": {
     "end_time": "2025-10-29T16:59:39.862924Z",
     "start_time": "2025-10-29T16:59:39.853925Z"
    }
   },
   "cell_type": "code",
   "source": "train_data.head()",
   "outputs": [
    {
     "data": {
      "text/plain": [
       "     Var_X    Var_Y\n",
       "0 -0.33532  6.66854\n",
       "1  0.02160  3.86398\n",
       "2 -1.19438  5.16161\n",
       "3 -0.65046  8.43823\n",
       "4 -0.28001  5.57201"
      ],
      "text/html": [
       "<div>\n",
       "<style scoped>\n",
       "    .dataframe tbody tr th:only-of-type {\n",
       "        vertical-align: middle;\n",
       "    }\n",
       "\n",
       "    .dataframe tbody tr th {\n",
       "        vertical-align: top;\n",
       "    }\n",
       "\n",
       "    .dataframe thead th {\n",
       "        text-align: right;\n",
       "    }\n",
       "</style>\n",
       "<table border=\"1\" class=\"dataframe\">\n",
       "  <thead>\n",
       "    <tr style=\"text-align: right;\">\n",
       "      <th></th>\n",
       "      <th>Var_X</th>\n",
       "      <th>Var_Y</th>\n",
       "    </tr>\n",
       "  </thead>\n",
       "  <tbody>\n",
       "    <tr>\n",
       "      <th>0</th>\n",
       "      <td>-0.33532</td>\n",
       "      <td>6.66854</td>\n",
       "    </tr>\n",
       "    <tr>\n",
       "      <th>1</th>\n",
       "      <td>0.02160</td>\n",
       "      <td>3.86398</td>\n",
       "    </tr>\n",
       "    <tr>\n",
       "      <th>2</th>\n",
       "      <td>-1.19438</td>\n",
       "      <td>5.16161</td>\n",
       "    </tr>\n",
       "    <tr>\n",
       "      <th>3</th>\n",
       "      <td>-0.65046</td>\n",
       "      <td>8.43823</td>\n",
       "    </tr>\n",
       "    <tr>\n",
       "      <th>4</th>\n",
       "      <td>-0.28001</td>\n",
       "      <td>5.57201</td>\n",
       "    </tr>\n",
       "  </tbody>\n",
       "</table>\n",
       "</div>"
      ]
     },
     "execution_count": 7,
     "metadata": {},
     "output_type": "execute_result"
    }
   ],
   "execution_count": 7
  },
  {
   "metadata": {},
   "cell_type": "markdown",
   "source": ""
  },
  {
   "metadata": {
    "ExecuteTime": {
     "end_time": "2025-10-29T17:01:59.842314Z",
     "start_time": "2025-10-29T17:01:59.832315Z"
    }
   },
   "cell_type": "code",
   "source": [
    "print(X.shape)\n",
    "X"
   ],
   "outputs": [
    {
     "name": "stdout",
     "output_type": "stream",
     "text": [
      "(20, 1)\n"
     ]
    },
    {
     "data": {
      "text/plain": [
       "      Var_X\n",
       "0  -0.33532\n",
       "1   0.02160\n",
       "2  -1.19438\n",
       "3  -0.65046\n",
       "4  -0.28001\n",
       "5   1.93258\n",
       "6   1.22620\n",
       "7   0.74727\n",
       "8   3.32853\n",
       "9   2.87457\n",
       "10 -1.48662\n",
       "11  0.37629\n",
       "12  1.43918\n",
       "13  0.24183\n",
       "14 -2.79140\n",
       "15  1.08176\n",
       "16  2.81555\n",
       "17  0.54924\n",
       "18  2.36449\n",
       "19 -1.01925"
      ],
      "text/html": [
       "<div>\n",
       "<style scoped>\n",
       "    .dataframe tbody tr th:only-of-type {\n",
       "        vertical-align: middle;\n",
       "    }\n",
       "\n",
       "    .dataframe tbody tr th {\n",
       "        vertical-align: top;\n",
       "    }\n",
       "\n",
       "    .dataframe thead th {\n",
       "        text-align: right;\n",
       "    }\n",
       "</style>\n",
       "<table border=\"1\" class=\"dataframe\">\n",
       "  <thead>\n",
       "    <tr style=\"text-align: right;\">\n",
       "      <th></th>\n",
       "      <th>Var_X</th>\n",
       "    </tr>\n",
       "  </thead>\n",
       "  <tbody>\n",
       "    <tr>\n",
       "      <th>0</th>\n",
       "      <td>-0.33532</td>\n",
       "    </tr>\n",
       "    <tr>\n",
       "      <th>1</th>\n",
       "      <td>0.02160</td>\n",
       "    </tr>\n",
       "    <tr>\n",
       "      <th>2</th>\n",
       "      <td>-1.19438</td>\n",
       "    </tr>\n",
       "    <tr>\n",
       "      <th>3</th>\n",
       "      <td>-0.65046</td>\n",
       "    </tr>\n",
       "    <tr>\n",
       "      <th>4</th>\n",
       "      <td>-0.28001</td>\n",
       "    </tr>\n",
       "    <tr>\n",
       "      <th>5</th>\n",
       "      <td>1.93258</td>\n",
       "    </tr>\n",
       "    <tr>\n",
       "      <th>6</th>\n",
       "      <td>1.22620</td>\n",
       "    </tr>\n",
       "    <tr>\n",
       "      <th>7</th>\n",
       "      <td>0.74727</td>\n",
       "    </tr>\n",
       "    <tr>\n",
       "      <th>8</th>\n",
       "      <td>3.32853</td>\n",
       "    </tr>\n",
       "    <tr>\n",
       "      <th>9</th>\n",
       "      <td>2.87457</td>\n",
       "    </tr>\n",
       "    <tr>\n",
       "      <th>10</th>\n",
       "      <td>-1.48662</td>\n",
       "    </tr>\n",
       "    <tr>\n",
       "      <th>11</th>\n",
       "      <td>0.37629</td>\n",
       "    </tr>\n",
       "    <tr>\n",
       "      <th>12</th>\n",
       "      <td>1.43918</td>\n",
       "    </tr>\n",
       "    <tr>\n",
       "      <th>13</th>\n",
       "      <td>0.24183</td>\n",
       "    </tr>\n",
       "    <tr>\n",
       "      <th>14</th>\n",
       "      <td>-2.79140</td>\n",
       "    </tr>\n",
       "    <tr>\n",
       "      <th>15</th>\n",
       "      <td>1.08176</td>\n",
       "    </tr>\n",
       "    <tr>\n",
       "      <th>16</th>\n",
       "      <td>2.81555</td>\n",
       "    </tr>\n",
       "    <tr>\n",
       "      <th>17</th>\n",
       "      <td>0.54924</td>\n",
       "    </tr>\n",
       "    <tr>\n",
       "      <th>18</th>\n",
       "      <td>2.36449</td>\n",
       "    </tr>\n",
       "    <tr>\n",
       "      <th>19</th>\n",
       "      <td>-1.01925</td>\n",
       "    </tr>\n",
       "  </tbody>\n",
       "</table>\n",
       "</div>"
      ]
     },
     "execution_count": 22,
     "metadata": {},
     "output_type": "execute_result"
    }
   ],
   "execution_count": 22
  },
  {
   "metadata": {
    "ExecuteTime": {
     "end_time": "2025-10-29T17:02:06.992628Z",
     "start_time": "2025-10-29T17:02:06.982620Z"
    }
   },
   "cell_type": "code",
   "source": [
    "print(y.shape)\n",
    "y"
   ],
   "outputs": [
    {
     "name": "stdout",
     "output_type": "stream",
     "text": [
      "(20, 1)\n"
     ]
    },
    {
     "data": {
      "text/plain": [
       "       Var_Y\n",
       "0    6.66854\n",
       "1    3.86398\n",
       "2    5.16161\n",
       "3    8.43823\n",
       "4    5.57201\n",
       "5  -11.13270\n",
       "6   -5.31226\n",
       "7   -4.63725\n",
       "8    3.80650\n",
       "9   -6.06084\n",
       "10   7.22328\n",
       "11   2.38887\n",
       "12  -7.13415\n",
       "13   2.00412\n",
       "14   4.29794\n",
       "15  -5.86553\n",
       "16  -5.20711\n",
       "17  -3.52863\n",
       "18 -10.16202\n",
       "19   5.31123"
      ],
      "text/html": [
       "<div>\n",
       "<style scoped>\n",
       "    .dataframe tbody tr th:only-of-type {\n",
       "        vertical-align: middle;\n",
       "    }\n",
       "\n",
       "    .dataframe tbody tr th {\n",
       "        vertical-align: top;\n",
       "    }\n",
       "\n",
       "    .dataframe thead th {\n",
       "        text-align: right;\n",
       "    }\n",
       "</style>\n",
       "<table border=\"1\" class=\"dataframe\">\n",
       "  <thead>\n",
       "    <tr style=\"text-align: right;\">\n",
       "      <th></th>\n",
       "      <th>Var_Y</th>\n",
       "    </tr>\n",
       "  </thead>\n",
       "  <tbody>\n",
       "    <tr>\n",
       "      <th>0</th>\n",
       "      <td>6.66854</td>\n",
       "    </tr>\n",
       "    <tr>\n",
       "      <th>1</th>\n",
       "      <td>3.86398</td>\n",
       "    </tr>\n",
       "    <tr>\n",
       "      <th>2</th>\n",
       "      <td>5.16161</td>\n",
       "    </tr>\n",
       "    <tr>\n",
       "      <th>3</th>\n",
       "      <td>8.43823</td>\n",
       "    </tr>\n",
       "    <tr>\n",
       "      <th>4</th>\n",
       "      <td>5.57201</td>\n",
       "    </tr>\n",
       "    <tr>\n",
       "      <th>5</th>\n",
       "      <td>-11.13270</td>\n",
       "    </tr>\n",
       "    <tr>\n",
       "      <th>6</th>\n",
       "      <td>-5.31226</td>\n",
       "    </tr>\n",
       "    <tr>\n",
       "      <th>7</th>\n",
       "      <td>-4.63725</td>\n",
       "    </tr>\n",
       "    <tr>\n",
       "      <th>8</th>\n",
       "      <td>3.80650</td>\n",
       "    </tr>\n",
       "    <tr>\n",
       "      <th>9</th>\n",
       "      <td>-6.06084</td>\n",
       "    </tr>\n",
       "    <tr>\n",
       "      <th>10</th>\n",
       "      <td>7.22328</td>\n",
       "    </tr>\n",
       "    <tr>\n",
       "      <th>11</th>\n",
       "      <td>2.38887</td>\n",
       "    </tr>\n",
       "    <tr>\n",
       "      <th>12</th>\n",
       "      <td>-7.13415</td>\n",
       "    </tr>\n",
       "    <tr>\n",
       "      <th>13</th>\n",
       "      <td>2.00412</td>\n",
       "    </tr>\n",
       "    <tr>\n",
       "      <th>14</th>\n",
       "      <td>4.29794</td>\n",
       "    </tr>\n",
       "    <tr>\n",
       "      <th>15</th>\n",
       "      <td>-5.86553</td>\n",
       "    </tr>\n",
       "    <tr>\n",
       "      <th>16</th>\n",
       "      <td>-5.20711</td>\n",
       "    </tr>\n",
       "    <tr>\n",
       "      <th>17</th>\n",
       "      <td>-3.52863</td>\n",
       "    </tr>\n",
       "    <tr>\n",
       "      <th>18</th>\n",
       "      <td>-10.16202</td>\n",
       "    </tr>\n",
       "    <tr>\n",
       "      <th>19</th>\n",
       "      <td>5.31123</td>\n",
       "    </tr>\n",
       "  </tbody>\n",
       "</table>\n",
       "</div>"
      ]
     },
     "execution_count": 23,
     "metadata": {},
     "output_type": "execute_result"
    }
   ],
   "execution_count": 23
  },
  {
   "cell_type": "code",
   "metadata": {
    "ExecuteTime": {
     "end_time": "2025-10-29T17:02:58.237228Z",
     "start_time": "2025-10-29T17:02:58.231187Z"
    }
   },
   "source": [
    "# Create polynomial features\n",
    "# TODO: Create a PolynomialFeatures object, then fit and transform the\n",
    "# predictor feature\n",
    "poly_feat = PolynomialFeatures(degree=4)\n",
    "X_poly = poly_feat.fit_transform(X)"
   ],
   "outputs": [],
   "execution_count": 27
  },
  {
   "metadata": {
    "ExecuteTime": {
     "end_time": "2025-10-29T17:02:58.887414Z",
     "start_time": "2025-10-29T17:02:58.880493Z"
    }
   },
   "cell_type": "code",
   "source": "X_poly",
   "outputs": [
    {
     "data": {
      "text/plain": [
       "array([[ 1.00000000e+00, -3.35320000e-01,  1.12439502e-01,\n",
       "        -3.77032139e-02,  1.26426417e-02],\n",
       "       [ 1.00000000e+00,  2.16000000e-02,  4.66560000e-04,\n",
       "         1.00776960e-05,  2.17678234e-07],\n",
       "       [ 1.00000000e+00, -1.19438000e+00,  1.42654358e+00,\n",
       "        -1.70383513e+00,  2.03502660e+00],\n",
       "       [ 1.00000000e+00, -6.50460000e-01,  4.23098212e-01,\n",
       "        -2.75208463e-01,  1.79012097e-01],\n",
       "       [ 1.00000000e+00, -2.80010000e-01,  7.84056001e-02,\n",
       "        -2.19543521e-02,  6.14743813e-03],\n",
       "       [ 1.00000000e+00,  1.93258000e+00,  3.73486546e+00,\n",
       "         7.21792628e+00,  1.39492200e+01],\n",
       "       [ 1.00000000e+00,  1.22620000e+00,  1.50356644e+00,\n",
       "         1.84367317e+00,  2.26071204e+00],\n",
       "       [ 1.00000000e+00,  7.47270000e-01,  5.58412453e-01,\n",
       "         4.17284874e-01,  3.11824468e-01],\n",
       "       [ 1.00000000e+00,  3.32853000e+00,  1.10791120e+01,\n",
       "         3.68771565e+01,  1.22746722e+02],\n",
       "       [ 1.00000000e+00,  2.87457000e+00,  8.26315268e+00,\n",
       "         2.37530108e+01,  6.82796923e+01],\n",
       "       [ 1.00000000e+00, -1.48662000e+00,  2.21003902e+00,\n",
       "        -3.28548821e+00,  4.88427249e+00],\n",
       "       [ 1.00000000e+00,  3.76290000e-01,  1.41594164e-01,\n",
       "         5.32804680e-02,  2.00489073e-02],\n",
       "       [ 1.00000000e+00,  1.43918000e+00,  2.07123907e+00,\n",
       "         2.98088585e+00,  4.29003130e+00],\n",
       "       [ 1.00000000e+00,  2.41830000e-01,  5.84817489e-02,\n",
       "         1.41426413e-02,  3.42011495e-03],\n",
       "       [ 1.00000000e+00, -2.79140000e+00,  7.79191396e+00,\n",
       "        -2.17503486e+01,  6.07139232e+01],\n",
       "       [ 1.00000000e+00,  1.08176000e+00,  1.17020470e+00,\n",
       "         1.26588063e+00,  1.36937903e+00],\n",
       "       [ 1.00000000e+00,  2.81555000e+00,  7.92732180e+00,\n",
       "         2.23197709e+01,  6.28424310e+01],\n",
       "       [ 1.00000000e+00,  5.49240000e-01,  3.01664578e-01,\n",
       "         1.65686253e-01,  9.10015174e-02],\n",
       "       [ 1.00000000e+00,  2.36449000e+00,  5.59081296e+00,\n",
       "         1.32194213e+01,  3.12571896e+01],\n",
       "       [ 1.00000000e+00, -1.01925000e+00,  1.03887056e+00,\n",
       "        -1.05886882e+00,  1.07925205e+00]])"
      ]
     },
     "execution_count": 28,
     "metadata": {},
     "output_type": "execute_result"
    }
   ],
   "execution_count": 28
  },
  {
   "cell_type": "code",
   "metadata": {
    "ExecuteTime": {
     "end_time": "2025-10-29T17:03:35.715703Z",
     "start_time": "2025-10-29T17:03:35.677399Z"
    }
   },
   "source": [
    "# Make and fit the polynomial regression model\n",
    "# TODO: Create a LinearRegression object and fit it to the polynomial predictor\n",
    "# features\n",
    "poly_model = LinearRegression(fit_intercept = False).fit(X_poly, y)\n",
    "\n",
    "print(f\"Coefficients: {poly_model.coef_}\")\n",
    "print(f\"Intercept: {poly_model.intercept_}\")"
   ],
   "outputs": [
    {
     "name": "stdout",
     "output_type": "stream",
     "text": [
      "Coefficients: [[ 3.37563501 -6.28126025 -2.3787942   0.55307182  0.22699807]]\n",
      "Intercept: 0.0\n"
     ]
    }
   ],
   "execution_count": 30
  },
  {
   "cell_type": "code",
   "metadata": {
    "ExecuteTime": {
     "end_time": "2025-10-29T17:03:38.919460Z",
     "start_time": "2025-10-29T17:03:38.749282Z"
    }
   },
   "source": [
    "# Plot the data and polynomial regression model\n",
    "X_new = np.linspace(-3, 3.5, 100).reshape(100, 1)\n",
    "X_new_poly = poly_feat.transform(X_new)\n",
    "y_new = poly_model.predict(X_new_poly)\n",
    "\n",
    "plt.scatter(X, y, label=\"Data\")\n",
    "plt.plot(X_new, y_new, \"r-\", label=\"Prediction\")\n",
    "plt.xlabel(\"Var_X\")\n",
    "plt.ylabel(\"Var_Y\")\n",
    "plt.legend(loc=\"best\")\n",
    "plt.show()"
   ],
   "outputs": [
    {
     "name": "stderr",
     "output_type": "stream",
     "text": [
      "D:\\miniconda3\\envs\\ud-ml\\Lib\\site-packages\\sklearn\\utils\\validation.py:2749: UserWarning: X does not have valid feature names, but PolynomialFeatures was fitted with feature names\n",
      "  warnings.warn(\n"
     ]
    },
    {
     "data": {
      "text/plain": [
       "<Figure size 640x480 with 1 Axes>"
      ],
      "image/png": "[encoded data removed]"
     },
     "metadata": {},
     "output_type": "display_data",
     "jetTransient": {
      "display_id": null
     }
    }
   ],
   "execution_count": 31
  },
  {
   "metadata": {},
   "cell_type": "code",
   "outputs": [],
   "execution_count": null,
   "source": ""
  }
 ],
 "metadata": {
  "kernelspec": {
   "display_name": "Python 3 (ipykernel)",
   "language": "python",
   "name": "python3"
  },
  "language_info": {
   "codemirror_mode": {
    "name": "ipython",
    "version": 3
   },
   "file_extension": ".py",
   "mimetype": "text/x-python",
   "name": "python",
   "nbconvert_exporter": "python",
   "pygments_lexer": "ipython3",
   "version": "3.10.13"
  }
 },
 "nbformat": 4,
 "nbformat_minor": 2
}
